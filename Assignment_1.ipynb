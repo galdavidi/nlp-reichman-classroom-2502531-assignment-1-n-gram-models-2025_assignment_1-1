{
  "cells": [
    {
      "cell_type": "markdown",
      "metadata": {
        "id": "FECp14-d_F2e"
      },
      "source": [
        "# Set up"
      ]
    },
    {
      "cell_type": "markdown",
      "metadata": {
        "id": "S197wGuvmEc3"
      },
      "source": [
        "hello\n"
      ]
    },
    {
      "cell_type": "code",
      "execution_count": null,
      "metadata": {
        "colab": {
          "base_uri": "https://localhost:8080/"
        },
        "id": "za-DgcYB_IQx",
        "outputId": "575160cb-cf01-4cff-8d37-8a8908a70c86"
      },
      "outputs": [],
      "source": [
        "# !git clone https://github.com/NLP-Reichman/2025_assignment_1.git\n",
        "# !mv 2025_assignment_1/data data\n",
        "# !rm 2025_assignment_1/ -r"
      ]
    },
    {
      "cell_type": "markdown",
      "metadata": {
        "id": "0i2bOXTB8Dvc"
      },
      "source": [
        "# Introduction\n",
        "In this assignment you will be creating tools for learning and testing language models. The corpora that you will be working with are lists of tweets in 8 different languages that use the Latin script. The data is provided either formatted as CSV or as JSON, for your convenience. The end goal is to write a set of tools that can detect the language of a given tweet.\n",
        "The relevant files are under the data folder:\n",
        "\n",
        "- en.csv (or the equivalent JSON file)\n",
        "- es.csv (or the equivalent JSON file)\n",
        "- fr.csv (or the equivalent JSON file)\n",
        "- in.csv (or the equivalent JSON file)\n",
        "- it.csv (or the equivalent JSON file)\n",
        "- nl.csv (or the equivalent JSON file)\n",
        "- pt.csv (or the equivalent JSON file)\n",
        "- tl.csv (or the equivalent JSON file)"
      ]
    },
    {
      "cell_type": "code",
      "execution_count": 63,
      "metadata": {
        "id": "1u1qR7iaq_GU"
      },
      "outputs": [],
      "source": [
        "import os\n",
        "import json\n",
        "# from google.colab import files\n",
        "import pandas as pd\n",
        "import numpy as np\n",
        "from itertools import product"
      ]
    },
    {
      "cell_type": "markdown",
      "metadata": {
        "id": "IHN0tWTurwkN"
      },
      "source": [
        "# Implementation"
      ]
    },
    {
      "cell_type": "markdown",
      "metadata": {
        "id": "i56aKA0K8adr"
      },
      "source": [
        "## Part 1\n",
        "Implement the function *preprocess* that iterates over all the data files and creates a single vocabulary, containing all the tokens in the data. Our token definition is a single UTF-8 encoded character. So, the vocabulary list is a simple Python list of all the characters that you see at least once in the data. The vocabulary should include the `<start>` and    `<end>` tokens.\n",
        "\n",
        "Note - do NOT lowecase the sentences."
      ]
    },
    {
      "cell_type": "code",
      "execution_count": 64,
      "metadata": {
        "id": "ws_5u7vRrg0o"
      },
      "outputs": [],
      "source": [
        "def preprocess() -> list[str]:\n",
        "    '''\n",
        "    Return a list of characters, representing the shared vocabulary of all languages\n",
        "    '''\n",
        "    vocab = []\n",
        "    data_files = [file for file in os.listdir('data') if file.endswith('.csv')]\n",
        "    for file in data_files:\n",
        "        with open(os.path.join('data', file), 'r') as f:\n",
        "            data = pd.read_csv(f)\n",
        "            for tweet in data['tweet_text']:\n",
        "                vocab.extend(list(tweet))\n",
        "    \n",
        "    vocab.append('<start>')\n",
        "    vocab.append('<end>')        \n",
        "    vocab = list(set(vocab))\n",
        "    \n",
        "    return vocab"
      ]
    },
    {
      "cell_type": "code",
      "execution_count": 65,
      "metadata": {
        "colab": {
          "base_uri": "https://localhost:8080/"
        },
        "id": "-1jcvg0jtMjF",
        "outputId": "b05d8228-f84f-40fc-be2f-9be57ff3ead9"
      },
      "outputs": [
        {
          "name": "stdout",
          "output_type": "stream",
          "text": [
            "vocab length: 1804\n",
            "Some characters in the vocab: ['📯', '╔', '⛄', 'ن', '▶', '😖', '☪', 'آ', '༻', '🇦']\n"
          ]
        }
      ],
      "source": [
        "vocab = preprocess()\n",
        "print(f\"vocab length: {len(vocab)}\")\n",
        "print(f\"Some characters in the vocab: {vocab[:10]}\")\n"
      ]
    },
    {
      "cell_type": "markdown",
      "metadata": {
        "id": "tpjtwHW08jyH"
      },
      "source": [
        "## Part 2\n",
        "Implement the function *build_lm* that generates a language model from a textual corpus. The function should return a dictionary (representing a model) where the keys are all the relevant *n*-1 sequences, and the values are dictionaries with the *n*_th tokens and their corresponding probabilities to occur. To ensure consistent probabilities calculation, please add n-1 `<start>` tokens to the beginning of a tweet and one `<end>` token at the end. For example, for a trigram model (tokens are characters), it should look something like:\n",
        "\n",
        "{ \"ab\":{\"c\":0.5, \"b\":0.25, \"d\":0.25}, \"ca\":{\"a\":0.2, \"b\":0.7, \"d\":0.1} }\n",
        "\n",
        "which means for example that after the sequence \"ab\", there is a 0.5 chance that \"c\" will appear, 0.25 for \"b\" to appear and 0.25 for \"d\" to appear.\n",
        "\n",
        "Note - You should think how to add the add_one smoothing information to the dictionary and implement it.\n",
        "\n",
        "Please add the `<unk>` token with $p(<unk>)=1|V|$ to the LM if buiulding a smoothed LM."
      ]
    },
    {
      "cell_type": "code",
      "execution_count": 66,
      "metadata": {
        "id": "uySEXdEUrkq_"
      },
      "outputs": [],
      "source": [
        "def get_all_tweets(lang: str,number_of_starts: int = 1) -> list[str]:\n",
        "    data_files = [file for file in os.listdir('data') if file.endswith('.csv') and file.startswith(lang)]\n",
        "    all_tweets = []\n",
        "    for file in data_files:\n",
        "        with open(os.path.join('data', file), 'r') as f:\n",
        "            data = pd.read_csv(f)\n",
        "            for tweet in data['tweet_text']:\n",
        "                text = ['<start>']*number_of_starts + list(tweet) + ['<end>']\n",
        "                all_tweets.append(text)\n",
        "    return all_tweets\n",
        "                \n",
        "def get_ngrams(text: str, n: int) -> list[str]:\n",
        "    ngrams = []\n",
        "    for i in range(len(text) - n + 1):\n",
        "        ngrams.append(text[i:i+n])\n",
        "    return ngrams\n",
        "\n",
        "def count_next_tokens(LM: dict[str, dict[str, float]], n: int,all_tweets: list[str]) -> dict[str, dict[str, float]]:\n",
        "\tn_ngrams = (get_ngrams(tweet, n) for tweet in all_tweets)\n",
        "\tfor sentence in n_ngrams:\n",
        "\t\tfor word in sentence:\n",
        "\t\t\tLM[\"\".join(word[:-1])][word[-1]] += 1\n",
        "\treturn LM\n",
        "\n",
        "def normalize_LM(LM: dict[str, dict[str, float]]) -> dict[str, dict[str, float]]:\n",
        "\tfor key in LM:\n",
        "\t\ttotal = sum(LM[key].values())\n",
        "\t\tfor next_token in LM[key]:\n",
        "\t\t\tif total != 0:\n",
        "\t\t\t\tLM[key][next_token] /= total\n",
        "\treturn LM\n",
        "\n",
        "\n",
        " \n",
        "def build_lm(lang: str, n: int, smoothed: bool = False) -> dict[str, dict[str, float]]:\n",
        "    '''\n",
        "    Return a language model for the given lang and n_gram (n)\n",
        "    :param lang: the language of the model\n",
        "    :param n: the n_gram value\n",
        "    :param smoothed: boolean indicating whether to apply smoothing\n",
        "    :return: a dictionary where the keys are n_grams and the values are dictionaries\n",
        "    '''\n",
        "    LM = {}\n",
        "    all_tweets = get_all_tweets(lang,n-1)\n",
        "    keys_t = (get_ngrams(tweet, n-1) for tweet in all_tweets)\n",
        "    sentences = (ngram for ngram in keys_t)\n",
        "    keys = []\n",
        "    for sentence in sentences:\n",
        "        keys.extend(sentence)\n",
        "    \n",
        "    \n",
        "    vocab_prob = {char: int(smoothed) for char in vocab}\n",
        "    if smoothed:\n",
        "        keys.append('<unk>')\n",
        "    LM = {\"\".join(key): vocab_prob.copy() for key in keys if key[-1] != '<end>'}\n",
        "\n",
        "    LM = count_next_tokens(LM, n, all_tweets)\n",
        "    LM = normalize_LM(LM)\n",
        "    return LM\n",
        "\t\n"
      ]
    },
    {
      "cell_type": "code",
      "execution_count": 67,
      "metadata": {},
      "outputs": [],
      "source": [
        "def test_build_lm():\n",
        "    return {\n",
        "        'english_2_gram_length': len(build_lm('en', 2, True)),\n",
        "        'english_3_gram_length': len(build_lm('en', 3, True)),\n",
        "        'french_3_gram_length': len(build_lm('fr', 3, True)),\n",
        "        'spanish_3_gram_length': len(build_lm('es', 3, True)),\n",
        "    }\n",
        "    \n",
        "def g_test_build_lm(results):\n",
        "    if results[\"english_2_gram_length\"] != 748:\n",
        "        return f\"English 2-gram length is {results['english_2_gram_length']}, expected 748\"\n",
        "    if results[\"english_3_gram_length\"] != 8239:\n",
        "        return f\"English 3-gram length is {results['english_3_gram_length']}, expected 8239\"\n",
        "    if results[\"french_3_gram_length\"] != 8286:\n",
        "        return f\"French 3-gram length is {results['french_3_gram_length']}, expected 8286\"\n",
        "    if results[\"spanish_3_gram_length\"] != 8469:\n",
        "        return f\"Spanish 3-gram length is {results['spanish_3_gram_length']}, expected 8469\"\n",
        "    return 1"
      ]
    },
    {
      "cell_type": "code",
      "execution_count": 68,
      "metadata": {
        "colab": {
          "base_uri": "https://localhost:8080/"
        },
        "id": "d9mqbEhBttmm",
        "outputId": "df92d141-999d-42c9-8c12-e6d5e51f7d81"
      },
      "outputs": [
        {
          "name": "stdout",
          "output_type": "stream",
          "text": [
            "{'english_2_gram_length': 748, 'english_3_gram_length': 8239, 'french_3_gram_length': 8286, 'spanish_3_gram_length': 8469}\n",
            "1\n"
          ]
        }
      ],
      "source": [
        "# LM = build_lm(\"en\", 3, False)\n",
        "# print(f\"English Language Model with 3-gram is of length: {len(LM)}\")\n",
        "results = test_build_lm()\n",
        "print(results)\n",
        "print(g_test_build_lm(results))"
      ]
    },
    {
      "cell_type": "markdown",
      "metadata": {
        "id": "xwZnk7Ke8rW5"
      },
      "source": [
        "## Part 3\n",
        "Implement the function *eval* that returns the perplexity of a model (dictionary) running over the data file of the given target language.\n",
        "\n",
        "The `<unk>` should be used for unknown contexts when calculating the perplexities."
      ]
    },
    {
      "cell_type": "code",
      "execution_count": null,
      "metadata": {
        "id": "y9w8u411uJeq"
      },
      "outputs": [],
      "source": [
        "def perplexity(model: dict, text: list, n) -> float:\n",
        "    '''\n",
        "    Calculates the perplexity of the given string using the given language model.\n",
        "    :param model: The language model\n",
        "    :param text: The tokenized text to calculate the perplexity for\n",
        "    :param n: The n-gram of the model\n",
        "    :return: The perplexity\n",
        "    '''\n",
        "    pp = 0\n",
        "    #######################################\n",
        "    # your code\n",
        "\n",
        "    ########################################\n",
        "    return pp"
      ]
    },
    {
      "cell_type": "code",
      "execution_count": null,
      "metadata": {
        "id": "ef-EglxXrmk2"
      },
      "outputs": [],
      "source": [
        "def eval(model: dict, target_lang: str, n: int) -> float:\n",
        "    '''\n",
        "    Return the perplexity value calculated over applying the model on the text file\n",
        "    of the target_lang language.\n",
        "    :param model: the language model\n",
        "    :param target_lang: the target language\n",
        "    :param n: The n-gram of the model\n",
        "    :return: the perplexity value\n",
        "    '''\n",
        "    pp = 0\n",
        "    ########################################\n",
        "    # your code\n",
        "\n",
        "    ########################################\n",
        "    return pp\n"
      ]
    },
    {
      "cell_type": "code",
      "execution_count": null,
      "metadata": {
        "id": "AIdDFvinBVhx"
      },
      "outputs": [],
      "source": [
        "LM = build_lm(\"en\", 3, True)"
      ]
    },
    {
      "cell_type": "code",
      "execution_count": null,
      "metadata": {
        "colab": {
          "base_uri": "https://localhost:8080/"
        },
        "id": "1WUouhkBuWJu",
        "outputId": "75967c86-5b00-480a-8ffd-574122f7a452"
      },
      "outputs": [],
      "source": [
        "print(\"Perplexity of the English 3-gram model on datasets:\")\n",
        "print(f\"On English: {eval(LM, 'en', 3): .2f}\")\n",
        "print(f\"On French: {eval(LM, 'fr', 3): .2f}\")\n",
        "print(f\"On Dutch: {eval(LM, 'nl', 3): .2f}\")\n",
        "print(f\"On Tagalog: {eval(LM, 'tl', 3): .2f}\")\n"
      ]
    },
    {
      "cell_type": "code",
      "execution_count": null,
      "metadata": {
        "colab": {
          "base_uri": "https://localhost:8080/"
        },
        "id": "5XP3ZIpLqB6r",
        "outputId": "3378ada3-42c1-42fb-88eb-8eeec458d0cd"
      },
      "outputs": [],
      "source": [
        "lm1 = build_lm(\"en\", 1, True)\n",
        "lm2 = build_lm(\"en\", 2, True)\n",
        "lm3 = build_lm(\"en\", 3, True)\n",
        "lm4 = build_lm(\"en\", 4, True)\n",
        "\n",
        "print(\"Perplexity on differnet n-gram models on English\")\n",
        "print(f\"On 1-gram: {eval(lm1, 'en', 1): .2f}\")\n",
        "print(f\"On 2-gram: {eval(lm2, 'en', 2): .2f}\")\n",
        "print(f\"On 3-gram: {eval(lm3, 'en', 3): .2f}\")\n",
        "print(f\"On 4-gram: {eval(lm4, 'en', 4): .2f}\")"
      ]
    },
    {
      "cell_type": "markdown",
      "metadata": {
        "id": "9ZYVc7hB84LP"
      },
      "source": [
        "## Part 4\n",
        "Implement the *match* function that calls *eval* using a specific value of *n* for every possible language pair among the languages we have data for. You should call *eval* for every language pair four times, with each call assign a different value for *n* (1-4). Each language pair is composed of the source language and the target language. Before you make the call, you need to call the *lm* function to create the language model for the source language. Then you can call *eval* with the language model and the target language. The function should return a pandas DataFrame with the following four columns: *source_lang*, *target_lang*, *n*, *perplexity*. The values for the first two columns are the two-letter language codes. The value for *n* is the *n* you use for generating the specific perplexity values which you should store in the forth column."
      ]
    },
    {
      "cell_type": "code",
      "execution_count": null,
      "metadata": {
        "id": "tMczigsHuadi"
      },
      "outputs": [],
      "source": [
        "languages = ['en', 'es', 'fr', 'in', 'it', 'nl', 'pt', 'tl']"
      ]
    },
    {
      "cell_type": "code",
      "execution_count": null,
      "metadata": {
        "id": "16ew9aZWroPC"
      },
      "outputs": [],
      "source": [
        "def match() -> pd.DataFrame:\n",
        "    '''\n",
        "    Return a DataFrame containing one line per every language pair and n_gram.\n",
        "    Each line will contain the perplexity calculated when applying the language model\n",
        "    of the source language on the text of the target language.\n",
        "    :return: a DataFrame containing the perplexity values\n",
        "    '''\n",
        "    df    = pd.DataFrame()\n",
        "    ########################################\n",
        "    # your code\n",
        "\n",
        "    ########################################\n",
        "    return df\n"
      ]
    },
    {
      "cell_type": "markdown",
      "metadata": {
        "id": "pAQoR0dH9C3T"
      },
      "source": [
        "## Part 5\n",
        "Implement the *generate* function which takes a language code, *n*, the prompt (the starting text), the number of tokens to generate, and *r*, which is the random seed for any randomized action you plan to take in your implementation. The function should start generating tokens, one by one, using the language model of the given source language and *n*. The prompt should be used as a starting point for aligning on the probabilities to be used for generating the next token.\n",
        "\n",
        "Note - The generation of the next token should be from the LM's distribution with NO smoothing."
      ]
    },
    {
      "cell_type": "code",
      "execution_count": null,
      "metadata": {
        "id": "CpCm24-RrpuA"
      },
      "outputs": [],
      "source": [
        "def generate(lang: str, n: int, prompt: str, number_of_tokens: int, r: int) -> str:\n",
        "    '''\n",
        "    Generate text in the given language using the given parameters.\n",
        "    :param lang: the language of the model\n",
        "    :param n: the n_gram value\n",
        "    :param prompt: the prompt to start the generation\n",
        "    :param number_of_tokens: the number of tokens to generate\n",
        "    :param r: the random seed to use\n",
        "    '''\n",
        "    text = \"\"\n",
        "    ########################################\n",
        "    # your code\n",
        "\n",
        "    ########################################\n",
        "    return text"
      ]
    },
    {
      "cell_type": "markdown",
      "metadata": {
        "id": "eUWX8Ugu9INH"
      },
      "source": [
        "## Part 6\n",
        "Play with your generate function, try to generate different texts in different language and various values of *n*. No need to submit anything of that."
      ]
    },
    {
      "cell_type": "code",
      "execution_count": null,
      "metadata": {
        "colab": {
          "base_uri": "https://localhost:8080/"
        },
        "id": "0ykbMBzG9LWn",
        "outputId": "c9613bb9-9d55-48dd-d2bf-f79435ab6d84"
      },
      "outputs": [],
      "source": [
        "print(generate('en', 1, \"I am\", 10, 5))\n",
        "print(generate('en', 2, \"I am\", 10, 5))\n",
        "print(generate('en', 3, \"I am\", 10, 5))\n",
        "print(generate('en', 4, \"I am \", 10, 5))\n",
        "print(generate('es', 2, \"Soy\", 10, 5))\n",
        "print(generate('es', 3, \"Soy\", 10, 5))\n",
        "print(generate('fr', 2, \"Je suis\", 10, 5))\n",
        "print(generate('fr', 3, \"Je suis\", 10, 5))"
      ]
    },
    {
      "cell_type": "markdown",
      "metadata": {
        "id": "q2jNlDISr9aL"
      },
      "source": [
        "# Testing"
      ]
    },
    {
      "cell_type": "markdown",
      "metadata": {
        "id": "uv48OCT_sIYW"
      },
      "source": [
        "Copy the content of the **tests.py** file from the repo and paste below. This will create the results.json file and download it to your machine."
      ]
    },
    {
      "cell_type": "code",
      "execution_count": null,
      "metadata": {
        "colab": {
          "base_uri": "https://localhost:8080/",
          "height": 17
        },
        "id": "JZTlc2ieruqq",
        "outputId": "772800de-c13a-4bd2-f22e-734b012da84f"
      },
      "outputs": [],
      "source": [
        "########################################\n",
        "# PLACE TESTS HERE #\n",
        "# Create tests\n",
        "def test_preprocess():\n",
        "        return {\n",
        "                'vocab_length': len(preprocess()),\n",
        "        }\n",
        "\n",
        "def test_build_lm():\n",
        "        return {\n",
        "                'english_2_gram_length': len(build_lm('en', 2, True)),\n",
        "                'english_3_gram_length': len(build_lm('en', 3, True)),\n",
        "                'french_3_gram_length': len(build_lm('fr', 3, True)),\n",
        "                'spanish_3_gram_length': len(build_lm('es', 3, True)),\n",
        "        }\n",
        "\n",
        "def test_eval():\n",
        "        lm = build_lm('en', 3, True)\n",
        "        return {\n",
        "                'en_on_en': round(eval(lm, 'en', 3), 2),\n",
        "                'en_on_fr': round(eval(lm, 'fr', 3), 2),\n",
        "                'en_on_tl': round(eval(lm, 'tl', 3), 2),\n",
        "                'en_on_nl': round(eval(lm, 'nl', 3), 2),\n",
        "        }\n",
        "\n",
        "def test_match():\n",
        "        df = match()\n",
        "        return {\n",
        "                'df_shape': df.shape,\n",
        "                'en_en_3': df[(df['source'] == 'en') & (df['target'] == 'en') & (df['n'] == 3)]['perplexity'].values[0],\n",
        "                'en_tl_3': df[(df['source'] == 'en') & (df['target'] == 'tl') & (df['n'] == 3)]['perplexity'].values[0],\n",
        "                'en_nl_3': df[(df['source'] == 'en') & (df['target'] == 'nl') & (df['n'] == 3)]['perplexity'].values[0],\n",
        "        }\n",
        "\n",
        "def test_generate():\n",
        "        return {\n",
        "                'english_2_gram': generate('en', 2, \"I am\", 20, 5),\n",
        "                'english_3_gram': generate('en', 3, \"I am\", 20, 5),\n",
        "                'english_4_gram': generate('en', 4, \"I Love\", 20, 5),\n",
        "                'spanish_2_gram': generate('es', 2, \"Soy\", 20, 5),\n",
        "                'spanish_3_gram': generate('es', 3, \"Soy\", 20, 5),\n",
        "                'french_2_gram': generate('fr', 2, \"Je suis\", 20, 5),\n",
        "                'french_3_gram': generate('fr', 3, \"Je suis\", 20, 5),\n",
        "        }\n",
        "\n",
        "TESTS = [test_preprocess, test_build_lm, test_eval, test_match, test_generate]\n",
        "\n",
        "# Run tests and save results\n",
        "res = {}\n",
        "for test in TESTS:\n",
        "        try:\n",
        "                cur_res = test()\n",
        "                res.update({test.__name__: cur_res})\n",
        "        except Exception as e:\n",
        "                res.update({test.__name__: repr(e)})\n",
        "\n",
        "with open('results.json', 'w') as f:\n",
        "        json.dump(res, f, indent=2)\n",
        "\n",
        "# Download the results.json file\n",
        "files.download('results.json')\n",
        "########################################"
      ]
    },
    {
      "cell_type": "code",
      "execution_count": null,
      "metadata": {
        "colab": {
          "base_uri": "https://localhost:8080/"
        },
        "id": "0dEpidyrqXTr",
        "outputId": "771c371b-d07c-4aee-fd4e-8bca0a9d31f3"
      },
      "outputs": [],
      "source": [
        "# Show the local files, results.json should be there now and\n",
        "# also downloaded to your local machine\n",
        "!ls -l"
      ]
    },
    {
      "cell_type": "code",
      "execution_count": null,
      "metadata": {
        "id": "UA8l8Vg5hPtr"
      },
      "outputs": [],
      "source": []
    }
  ],
  "metadata": {
    "colab": {
      "provenance": []
    },
    "kernelspec": {
      "display_name": ".venv",
      "language": "python",
      "name": "python3"
    },
    "language_info": {
      "codemirror_mode": {
        "name": "ipython",
        "version": 3
      },
      "file_extension": ".py",
      "mimetype": "text/x-python",
      "name": "python",
      "nbconvert_exporter": "python",
      "pygments_lexer": "ipython3",
      "version": "3.12.7"
    }
  },
  "nbformat": 4,
  "nbformat_minor": 0
}
