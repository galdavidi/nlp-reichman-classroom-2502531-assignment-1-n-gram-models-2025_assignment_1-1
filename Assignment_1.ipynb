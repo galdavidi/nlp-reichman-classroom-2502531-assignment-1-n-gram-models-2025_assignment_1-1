{
  "cells": [
    {
      "cell_type": "markdown",
      "metadata": {
        "id": "FECp14-d_F2e"
      },
      "source": [
        "# Set up"
      ]
    },
    {
      "cell_type": "markdown",
      "metadata": {
        "id": "S197wGuvmEc3"
      },
      "source": [
        "hello\n"
      ]
    },
    {
      "cell_type": "code",
      "execution_count": 20,
      "metadata": {
        "colab": {
          "base_uri": "https://localhost:8080/"
        },
        "id": "za-DgcYB_IQx",
        "outputId": "575160cb-cf01-4cff-8d37-8a8908a70c86"
      },
      "outputs": [],
      "source": [
        "# !git clone https://github.com/NLP-Reichman/2025_assignment_1.git\n",
        "# !mv 2025_assignment_1/data data\n",
        "# !rm 2025_assignment_1/ -r"
      ]
    },
    {
      "cell_type": "markdown",
      "metadata": {
        "id": "0i2bOXTB8Dvc"
      },
      "source": [
        "# Introduction\n",
        "In this assignment you will be creating tools for learning and testing language models. The corpora that you will be working with are lists of tweets in 8 different languages that use the Latin script. The data is provided either formatted as CSV or as JSON, for your convenience. The end goal is to write a set of tools that can detect the language of a given tweet.\n",
        "The relevant files are under the data folder:\n",
        "\n",
        "- en.csv (or the equivalent JSON file)\n",
        "- es.csv (or the equivalent JSON file)\n",
        "- fr.csv (or the equivalent JSON file)\n",
        "- in.csv (or the equivalent JSON file)\n",
        "- it.csv (or the equivalent JSON file)\n",
        "- nl.csv (or the equivalent JSON file)\n",
        "- pt.csv (or the equivalent JSON file)\n",
        "- tl.csv (or the equivalent JSON file)"
      ]
    },
    {
      "cell_type": "code",
      "execution_count": 21,
      "metadata": {
        "id": "1u1qR7iaq_GU"
      },
      "outputs": [],
      "source": [
        "import os\n",
        "import json\n",
        "# from google.colab import files\n",
        "import pandas as pd\n",
        "import numpy as np\n",
        "import math\n",
        "from itertools import product\n",
        "import random\n"
      ]
    },
    {
      "cell_type": "markdown",
      "metadata": {
        "id": "IHN0tWTurwkN"
      },
      "source": [
        "# Implementation"
      ]
    },
    {
      "cell_type": "markdown",
      "metadata": {
        "id": "i56aKA0K8adr"
      },
      "source": [
        "## Part 1\n",
        "Implement the function *preprocess* that iterates over all the data files and creates a single vocabulary, containing all the tokens in the data. Our token definition is a single UTF-8 encoded character. So, the vocabulary list is a simple Python list of all the characters that you see at least once in the data. The vocabulary should include the `<start>` and    `<end>` tokens.\n",
        "\n",
        "Note - do NOT lowecase the sentences."
      ]
    },
    {
      "cell_type": "code",
      "execution_count": 22,
      "metadata": {
        "id": "ws_5u7vRrg0o"
      },
      "outputs": [],
      "source": [
        "def preprocess() -> list[str]:\n",
        "\t'''\n",
        "\tReturn a list of characters, representing the shared vocabulary of all languages\n",
        "\t'''\n",
        "\tvocab = []\n",
        "\tdata_files = [file for file in os.listdir('data') if file.endswith('.csv')]\n",
        "\tfor file in data_files:\n",
        "\t\twith open(os.path.join('data', file), 'r') as f:\n",
        "\t\t\tdata = pd.read_csv(f)\n",
        "\t\t\tfor tweet in data['tweet_text']:\n",
        "\t\t\t\tvocab.extend(list(tweet))\n",
        "\t\n",
        "\tvocab.append('<start>')\n",
        "\tvocab.append('<end>')        \n",
        "\tvocab = list(set(vocab))\n",
        "\t\n",
        "\treturn vocab"
      ]
    },
    {
      "cell_type": "code",
      "execution_count": 23,
      "metadata": {
        "colab": {
          "base_uri": "https://localhost:8080/"
        },
        "id": "-1jcvg0jtMjF",
        "outputId": "b05d8228-f84f-40fc-be2f-9be57ff3ead9"
      },
      "outputs": [
        {
          "name": "stdout",
          "output_type": "stream",
          "text": [
            "vocab length: 1804\n",
            "Some characters in the vocab: ['⭐', '외', 'خ', '📲', '🤚', '王', '写', '🍒', '⛳', 'ė']\n"
          ]
        }
      ],
      "source": [
        "vocab = preprocess()\n",
        "print(f\"vocab length: {len(vocab)}\")\n",
        "print(f\"Some characters in the vocab: {vocab[:10]}\")\n"
      ]
    },
    {
      "cell_type": "markdown",
      "metadata": {
        "id": "tpjtwHW08jyH"
      },
      "source": [
        "## Part 2\n",
        "Implement the function *build_lm* that generates a language model from a textual corpus. The function should return a dictionary (representing a model) where the keys are all the relevant *n*-1 sequences, and the values are dictionaries with the *n*_th tokens and their corresponding probabilities to occur. To ensure consistent probabilities calculation, please add n-1 `<start>` tokens to the beginning of a tweet and one `<end>` token at the end. For example, for a trigram model (tokens are characters), it should look something like:\n",
        "\n",
        "{ \"ab\":{\"c\":0.5, \"b\":0.25, \"d\":0.25}, \"ca\":{\"a\":0.2, \"b\":0.7, \"d\":0.1} }\n",
        "\n",
        "which means for example that after the sequence \"ab\", there is a 0.5 chance that \"c\" will appear, 0.25 for \"b\" to appear and 0.25 for \"d\" to appear.\n",
        "\n",
        "Note - You should think how to add the add_one smoothing information to the dictionary and implement it.\n",
        "\n",
        "Please add the `<unk>` token with $p(<unk>)=1|V|$ to the LM if buiulding a smoothed LM."
      ]
    },
    {
      "cell_type": "code",
      "execution_count": 24,
      "metadata": {
        "id": "uySEXdEUrkq_"
      },
      "outputs": [],
      "source": [
        "from functools import lru_cache\n",
        "\n",
        "@lru_cache\n",
        "def get_all_tweets(lang: str,number_of_starts: int = 1) -> list[str]:\n",
        "\tdata_files = [file for file in os.listdir('data') if file.endswith('.csv') and file.startswith(lang)]\n",
        "\tall_tweets = []\n",
        "\tfor file in data_files:\n",
        "\t\twith open(os.path.join('data', file), 'r') as f:\n",
        "\t\t\tdata = pd.read_csv(f)\n",
        "\t\t\tfor tweet in data['tweet_text']:\n",
        "\t\t\t\ttext = ['<start>']*number_of_starts + list(tweet) + ['<end>']\n",
        "\t\t\t\tall_tweets.append(text)\n",
        "\treturn all_tweets\n",
        "\n",
        "\n",
        "def get_ngrams(text: str, n: int) -> list[str]:\n",
        "\tngrams = []\n",
        "\tfor i in range(len(text) - n + 1):\n",
        "\t\tngrams.append(text[i:i+n])\n",
        "\treturn ngrams\n",
        "\n",
        "def count_next_tokens(LM: dict[str, dict[str, float]], n: int,all_tweets: list[str]) -> dict[str, dict[str, float]]:\n",
        "\tn_ngrams = (get_ngrams(tweet, n) for tweet in all_tweets)\n",
        "\tfor sentence in n_ngrams:\n",
        "\t\tfor word in sentence:\n",
        "\t\t\tLM[\"\".join(word[:-1])][word[-1]] += 1\n",
        "\treturn LM\n",
        "\n",
        "def add_unknown_tokens(LM: dict[str, dict[str, float]]) -> dict[str, dict[str, float]]:\n",
        "\tfor key in LM:\n",
        "\t\tLM[key]['<unk>'] = 1 \n",
        "\treturn LM\n",
        "\n",
        "\n",
        "def normalize_LM(LM: dict[str, dict[str, float]]) -> dict[str, dict[str, float]]:\n",
        "\tfor key in LM:\n",
        "\t\ttotal = sum(LM[key].values())\n",
        "\t\tfor next_token in LM[key]:\n",
        "\t\t\tif total != 0:\n",
        "\t\t\t\tLM[key][next_token] /= total\n",
        "\treturn LM\n",
        "\n",
        "def build_1_gram_LM(vocab: list[str], smoothed: bool = False, lang: str = 'en') -> dict[str, dict[str, float]]:\n",
        "\tall_chars = []\n",
        "\tdata_files = [file for file in os.listdir('data') if file.endswith('.csv') and file.startswith(lang)]\n",
        "\tfor file in data_files:\n",
        "\t\twith open(os.path.join('data', file), 'r') as f:\n",
        "\t\t\tdata = pd.read_csv(f)\n",
        "\t\t\tfor tweet in data['tweet_text']:\n",
        "\t\t\t\tall_chars.extend(list(tweet))\n",
        "\t\n",
        "\tall_chars.append('<start>')\n",
        "\tall_chars.append('<end>')\n",
        "\tif smoothed:\n",
        "\t\tall_chars.append('<unk>')\n",
        "\t\tvocab.append('<unk>')\n",
        "\tall_chars = list(all_chars)\n",
        "\n",
        " \n",
        "\tvocab_prob = {char: all_chars.count(char)/len(all_chars) for char in vocab}\n",
        "\tLM = {char: vocab_prob.copy() for char in vocab}\n",
        "\treturn LM\n",
        "\n",
        "\n",
        "def build_lm(lang: str, n: int, smoothed: bool = False) -> dict[str, dict[str, float]]:\n",
        "\t'''\n",
        "\tReturn a language model for the given lang and n_gram (n)\n",
        "\t:param lang: the language of the model\n",
        "\t:param n: the n_gram value\n",
        "\t:param smoothed: boolean indicating whether to apply smoothing\n",
        "\t:return: a dictionary where the keys are n_grams and the values are dictionaries\n",
        "\t'''\n",
        "\tLM = {}\n",
        "\tif n == 1:\n",
        "\t\treturn build_1_gram_LM(vocab, smoothed, lang)\n",
        "\tall_tweets = get_all_tweets(lang,n-1)\n",
        "\tkeys_t = (get_ngrams(tweet, n-1) for tweet in all_tweets)\n",
        "\tsentences = (ngram for ngram in keys_t)\n",
        "\tkeys = []\n",
        "\tfor sentence in sentences:\n",
        "\t\tkeys.extend(sentence)\n",
        "\t\n",
        "\t\n",
        "\tvocab_prob = {char: int(smoothed) for char in vocab}\n",
        "\tif smoothed:\n",
        "\t\tkeys.append('<unk>')\n",
        "\tLM = {\"\".join(key): vocab_prob.copy() for key in keys if key[-1] != '<end>'}\n",
        "\tif smoothed:\n",
        "\t\tLM = add_unknown_tokens(LM)\n",
        "\tLM = count_next_tokens(LM, n, all_tweets)\n",
        "\tLM = normalize_LM(LM)\n",
        "\treturn LM\n",
        "\t\n"
      ]
    },
    {
      "cell_type": "code",
      "execution_count": 25,
      "metadata": {},
      "outputs": [],
      "source": [
        "# def test_build_lm():\n",
        "# \treturn {\n",
        "# \t\t'english_2_gram_length': len(build_lm('en', 2, True)),\n",
        "# \t\t'english_3_gram_length': len(build_lm('en', 3, True)),\n",
        "# \t\t'french_3_gram_length': len(build_lm('fr', 3, True)),\n",
        "# \t\t'spanish_3_gram_length': len(build_lm('es', 3, True)),\n",
        "# \t}\n",
        "\t\n",
        "# def g_test_build_lm(results):\n",
        "# \tif results[\"english_2_gram_length\"] != 748:\n",
        "# \t\treturn f\"English 2-gram length is {results['english_2_gram_length']}, expected 748\"\n",
        "# \tif results[\"english_3_gram_length\"] != 8239:\n",
        "# \t\treturn f\"English 3-gram length is {results['english_3_gram_length']}, expected 8239\"\n",
        "# \tif results[\"french_3_gram_length\"] != 8286:\n",
        "# \t\treturn f\"French 3-gram length is {results['french_3_gram_length']}, expected 8286\"\n",
        "# \tif results[\"spanish_3_gram_length\"] != 8469:\n",
        "# \t\treturn f\"Spanish 3-gram length is {results['spanish_3_gram_length']}, expected 8469\"\n",
        "# \treturn 1"
      ]
    },
    {
      "cell_type": "code",
      "execution_count": 26,
      "metadata": {
        "colab": {
          "base_uri": "https://localhost:8080/"
        },
        "id": "d9mqbEhBttmm",
        "outputId": "df92d141-999d-42c9-8c12-e6d5e51f7d81"
      },
      "outputs": [],
      "source": [
        "# # LM = build_lm(\"en\", 3, False)\n",
        "# # print(f\"English Language Model with 3-gram is of length: {len(LM)}\")\n",
        "# results = test_build_lm()\n",
        "# print(g_test_build_lm(results))"
      ]
    },
    {
      "cell_type": "markdown",
      "metadata": {
        "id": "xwZnk7Ke8rW5"
      },
      "source": [
        "## Part 3\n",
        "Implement the function *eval* that returns the perplexity of a model (dictionary) running over the data file of the given target language.\n",
        "\n",
        "The `<unk>` should be used for unknown contexts when calculating the perplexities."
      ]
    },
    {
      "cell_type": "code",
      "execution_count": 27,
      "metadata": {
        "id": "y9w8u411uJeq"
      },
      "outputs": [],
      "source": [
        "def perplexity(model: dict, text: list, n:int) -> float:\n",
        "\t'''\n",
        "\tCalculates the perplexity of the given string using the given language model.\n",
        "\t:param model: The language model\n",
        "\t:param text: The tokenized text to calculate the perplexity for\n",
        "\t:param n: The n-gram of the model\n",
        "\t:return: The perplexity\n",
        "\t'''\n",
        "\tpp = 0\n",
        "\tlog_prob_sum = 0.0\t\n",
        "\tcount = 0\n",
        "\n",
        "\tkeys_t = (get_ngrams(tweet, n) for tweet in text)\n",
        "\tsentences = (ngram for ngram in keys_t)\n",
        "\tkeys = []\n",
        "\tfor sentence in sentences:\n",
        "\t\tkeys.extend(sentence)\n",
        "\tfor ngram in keys:\n",
        "\t\tcontext = ''.join(ngram[:-1])\n",
        "\t\tnext_char = ngram[-1]\t\n",
        "\t\tcontext_probs = model.get(context, model['<unk>'])\n",
        "\t\tprob = context_probs.get(next_char, context_probs['<unk>'])\n",
        "\t\tif prob == 0:\n",
        "\t\t\tprob = context_probs['<unk>']\n",
        "\t\tlog_prob_sum += math.log(prob)\n",
        "\t\tcount += 1\t\n",
        "\tif count == 0:\n",
        "\t\treturn float('inf')\n",
        "\treturn math.exp(-log_prob_sum / count)\t\n"
      ]
    },
    {
      "cell_type": "code",
      "execution_count": 28,
      "metadata": {
        "id": "ef-EglxXrmk2"
      },
      "outputs": [],
      "source": [
        "def eval(model: dict, target_lang: str, n: int) -> float:\n",
        "\t'''\n",
        "\tReturn the perplexity value calculated over applying the model on the text file\n",
        "\tof the target_lang language.\n",
        "\t:param model: the language model\n",
        "\t:param target_lang: the target language\n",
        "\t:param n: The n-gram of the model\n",
        "\t:return: the perplexity value\n",
        "\t'''\n",
        "\tpp = 0\n",
        "\n",
        "\tall_tweets = get_all_tweets(target_lang, n)\n",
        "\tpp = perplexity(model, all_tweets, n)\n",
        "\treturn pp\n"
      ]
    },
    {
      "cell_type": "code",
      "execution_count": 29,
      "metadata": {
        "id": "AIdDFvinBVhx"
      },
      "outputs": [],
      "source": [
        "LM = build_lm(\"en\", 3, True)"
      ]
    },
    {
      "cell_type": "code",
      "execution_count": 30,
      "metadata": {
        "colab": {
          "base_uri": "https://localhost:8080/"
        },
        "id": "1WUouhkBuWJu",
        "outputId": "75967c86-5b00-480a-8ffd-574122f7a452"
      },
      "outputs": [],
      "source": [
        "# print(\"Perplexity of the English 3-gram model on datasets:\")\n",
        "# print(f\"On English: {eval(LM, 'en', 3): .2f}\")\n",
        "# print(f\"On French: {eval(LM, 'fr', 3): .2f}\")\n",
        "# print(f\"On Dutch: {eval(LM, 'nl', 3): .2f}\")\n",
        "# print(f\"On Tagalog: {eval(LM, 'tl', 3): .2f}\")\n"
      ]
    },
    {
      "cell_type": "code",
      "execution_count": 31,
      "metadata": {
        "colab": {
          "base_uri": "https://localhost:8080/"
        },
        "id": "5XP3ZIpLqB6r",
        "outputId": "3378ada3-42c1-42fb-88eb-8eeec458d0cd"
      },
      "outputs": [],
      "source": [
        "# lm1 = build_lm(\"en\", 1, True)\n",
        "# lm2 = build_lm(\"en\", 2, True)\n",
        "# lm3 = build_lm(\"en\", 3, True)\n",
        "# lm4 = build_lm(\"en\", 4, True)\n",
        "\n",
        "# print(\"Perplexity on differnet n-gram models on English\")\n",
        "# print(f\"On 1-gram: {eval(lm1, 'en', 1): .2f}\")\n",
        "# print(f\"On 2-gram: {eval(lm2, 'en', 2): .2f}\")\n",
        "# print(f\"On 3-gram: {eval(lm3, 'en', 3): .2f}\")\n",
        "# print(f\"On 4-gram: {eval(lm4, 'en', 4): .2f}\")"
      ]
    },
    {
      "cell_type": "markdown",
      "metadata": {
        "id": "9ZYVc7hB84LP"
      },
      "source": [
        "## Part 4\n",
        "Implement the *match* function that calls *eval* using a specific value of *n* for every possible language pair among the languages we have data for. You should call *eval* for every language pair four times, with each call assign a different value for *n* (1-4). Each language pair is composed of the source language and the target language. Before you make the call, you need to call the *lm* function to create the language model for the source language. Then you can call *eval* with the language model and the target language. The function should return a pandas DataFrame with the following four columns: *source_lang*, *target_lang*, *n*, *perplexity*. The values for the first two columns are the two-letter language codes. The value for *n* is the *n* you use for generating the specific perplexity values which you should store in the forth column."
      ]
    },
    {
      "cell_type": "code",
      "execution_count": 32,
      "metadata": {
        "id": "tMczigsHuadi"
      },
      "outputs": [],
      "source": [
        "languages = ['en', 'es', 'fr', 'in', 'it', 'nl', 'pt', 'tl']\n"
      ]
    },
    {
      "cell_type": "code",
      "execution_count": 33,
      "metadata": {
        "id": "16ew9aZWroPC"
      },
      "outputs": [],
      "source": [
        "\n",
        "import time\n",
        "def match() -> pd.DataFrame:\n",
        "    \n",
        "\t'''\n",
        "\tReturn a DataFrame containing one line per every language pair and n_gram.\n",
        "\tEach line will contain the perplexity calculated when applying the language model\n",
        "\tof the source language on the text of the target language.\n",
        "\t:return: a DataFrame containing the perplexity values\n",
        "\t'''\n",
        "\tnumber_of_ngrams = 4\n",
        "\tdf = pd.DataFrame()\n",
        "\tfor lang in languages:\n",
        "\t\tfor n in range(1, number_of_ngrams + 1):\n",
        "\t\t\tlm = build_lm(lang, n, True)\n",
        "\t\t\tfor target_lang in languages:\n",
        "\t\t\t\tperplexity = eval(lm, target_lang, n)\n",
        "\t\t\t\tdf = pd.concat([df, pd.DataFrame({'source': lang, 'target': target_lang, 'n': n, 'perplexity': perplexity}, index=[0])], ignore_index=True)\n",
        "\t\n",
        "\tdf.to_csv('match_test.csv', index=False)\n",
        "\n",
        "\n",
        "\treturn df\n"
      ]
    },
    {
      "cell_type": "code",
      "execution_count": 34,
      "metadata": {},
      "outputs": [],
      "source": [
        "# def test_match():\n",
        "#     df = match()\n",
        "#     df.to_csv('match_test.csv', index=False)\n",
        "#     # df = pd.read_csv('match_test.csv')\n",
        "#     return {\n",
        "#         'df_shape': df.shape,\n",
        "#         'en_en_3': df[(df['source'] == 'en') & (df['target'] == 'en') & (df['n'] == 3)]['perplexity'].values[0],\n",
        "#         'en_tl_3': df[(df['source'] == 'en') & (df['target'] == 'tl') & (df['n'] == 3)]['perplexity'].values[0],\n",
        "#         'en_nl_3': df[(df['source'] == 'en') & (df['target'] == 'nl') & (df['n'] == 3)]['perplexity'].values[0],\n",
        "#     }\n",
        "# def test_match_grader():\n",
        "#     results = test_match()\n",
        "#     perplexity_en_on_en = int(results[\"en_en_3\"])  \n",
        "#     perplexity_en_on_tl = int(results[\"en_tl_3\"])  \n",
        "#     perplexity_en_on_nl = int(results[\"en_nl_3\"])  \n",
        "\n",
        "#     perplexities = [\n",
        "#         perplexity_en_on_en,\n",
        "#         perplexity_en_on_tl,\n",
        "#         perplexity_en_on_nl\n",
        "#     ]\n",
        "\n",
        "#     if min(perplexities) != perplexity_en_on_en:\n",
        "#         return f\"English model should perform best on English text. Results: {results}\"\n",
        "\n",
        "#     if not (perplexity_en_on_en <= max(perplexity_en_on_tl, perplexity_en_on_nl)):\n",
        "#         return f\"Expected increasing perplexity from English to other languages. Results: {results}\"\n",
        "\n",
        "#     return 1\n",
        "\n",
        "# print(test_match_grader())"
      ]
    },
    {
      "cell_type": "markdown",
      "metadata": {
        "id": "pAQoR0dH9C3T"
      },
      "source": [
        "## Part 5\n",
        "Implement the *generate* function which takes a language code, *n*, the prompt (the starting text), the number of tokens to generate, and *r*, which is the random seed for any randomized action you plan to take in your implementation. The function should start generating tokens, one by one, using the language model of the given source language and *n*. The prompt should be used as a starting point for aligning on the probabilities to be used for generating the next token.\n",
        "\n",
        "Note - The generation of the next token should be from the LM's distribution with NO smoothing."
      ]
    },
    {
      "cell_type": "code",
      "execution_count": 35,
      "metadata": {
        "id": "CpCm24-RrpuA"
      },
      "outputs": [],
      "source": [
        "def generate(lang: str, n: int, prompt: str, number_of_tokens: int, r: int) -> str:\n",
        "\t'''\n",
        "\tGenerate text in the given language using the given parameters.\n",
        "\t:param lang: the language of the model\n",
        "\t:param n: the n_gram value\n",
        "\t:param prompt: the prompt to start the generation\n",
        "\t:param number_of_tokens: the number of tokens to generate\n",
        "\t:param r: the random seed to use\n",
        "\t'''\n",
        "\n",
        "\tlm = build_lm(lang, n, False)\n",
        "\trandom.seed(r)\n",
        "\tfor i in range(number_of_tokens):\n",
        "\t\tif n == 1:\n",
        "\t\t\tprev_n_gram = prompt[-1]\n",
        "\t\t\tnext_token = np.random.choice(list(lm[prev_n_gram].keys()),p=list(lm[prev_n_gram].values()))\n",
        "\t\telse:\n",
        "\t\t\tprev_n_gram = prompt[-n+1:]\n",
        "\t\t\tnext_token = np.random.choice(list(lm[prev_n_gram].keys()),p=list(lm[prev_n_gram].values()))\n",
        "\t\tif next_token == '<unk>':\n",
        "\t\t\tnext_token = random.choice(list(lm['<unk>'].keys()))\n",
        "\t\tif next_token == '<end>':\n",
        "\t\t\tbreak\n",
        "\t\tprompt += next_token\n",
        "\t\n",
        "\treturn prompt"
      ]
    },
    {
      "cell_type": "markdown",
      "metadata": {
        "id": "eUWX8Ugu9INH"
      },
      "source": [
        "## Part 6\n",
        "Play with your generate function, try to generate different texts in different language and various values of *n*. No need to submit anything of that."
      ]
    },
    {
      "cell_type": "code",
      "execution_count": 36,
      "metadata": {
        "colab": {
          "base_uri": "https://localhost:8080/"
        },
        "id": "0ykbMBzG9LWn",
        "outputId": "c9613bb9-9d55-48dd-d2bf-f79435ab6d84"
      },
      "outputs": [
        {
          "name": "stdout",
          "output_type": "stream",
          "text": [
            "I ama.eovz Yna\n",
            "I ame @F9: ool\n",
            "I amn calwankl\n",
            "I am some to th\n",
            "Soya #Ceo mas\n",
            "Soy Tie. Mun \n",
            "Je suis ri e fli \n",
            "Je suis rensommes\n"
          ]
        }
      ],
      "source": [
        "print(generate('en', 1, \"I am\", 10, 5))\n",
        "print(generate('en', 2, \"I am\", 10, 5))\n",
        "print(generate('en', 3, \"I am\", 10, 5))\n",
        "print(generate('en', 4, \"I am \", 10, 5))\n",
        "print(generate('es', 2, \"Soy\", 10, 5))\n",
        "print(generate('es', 3, \"Soy\", 10, 5))\n",
        "print(generate('fr', 2, \"Je suis\", 10, 5))\n",
        "print(generate('fr', 3, \"Je suis\", 10, 5))"
      ]
    },
    {
      "cell_type": "markdown",
      "metadata": {
        "id": "q2jNlDISr9aL"
      },
      "source": [
        "# Testing"
      ]
    },
    {
      "cell_type": "markdown",
      "metadata": {
        "id": "uv48OCT_sIYW"
      },
      "source": [
        "Copy the content of the **tests.py** file from the repo and paste below. This will create the results.json file and download it to your machine."
      ]
    },
    {
      "cell_type": "code",
      "execution_count": 37,
      "metadata": {
        "colab": {
          "base_uri": "https://localhost:8080/",
          "height": 17
        },
        "id": "JZTlc2ieruqq",
        "outputId": "772800de-c13a-4bd2-f22e-734b012da84f"
      },
      "outputs": [],
      "source": [
        "########################################\n",
        "# PLACE TESTS HERE #\n",
        "# Create tests\n",
        "def test_preprocess():\n",
        "    return {\n",
        "        'vocab_length': len(preprocess()),\n",
        "    }\n",
        "\n",
        "def test_build_lm():\n",
        "    return {\n",
        "        'english_2_gram_length': len(build_lm('en', 2, True)),\n",
        "        'english_3_gram_length': len(build_lm('en', 3, True)),\n",
        "        'french_3_gram_length': len(build_lm('fr', 3, True)),\n",
        "        'spanish_3_gram_length': len(build_lm('es', 3, True)),\n",
        "    }\n",
        "\n",
        "def test_eval():\n",
        "    lm = build_lm('en', 3, True)\n",
        "    return {\n",
        "        'en_on_en': round(eval(lm, 'en', 3), 2),\n",
        "        'en_on_fr': round(eval(lm, 'fr', 3), 2),\n",
        "        'en_on_tl': round(eval(lm, 'tl', 3), 2),\n",
        "        'en_on_nl': round(eval(lm, 'nl', 3), 2),\n",
        "    }\n",
        "\n",
        "def test_match():\n",
        "    df = match()\n",
        "    return {\n",
        "        'df_shape': df.shape,\n",
        "        'en_en_3': df[(df['source'] == 'en') & (df['target'] == 'en') & (df['n'] == 3)]['perplexity'].values[0],\n",
        "        'en_tl_3': df[(df['source'] == 'en') & (df['target'] == 'tl') & (df['n'] == 3)]['perplexity'].values[0],\n",
        "        'en_nl_3': df[(df['source'] == 'en') & (df['target'] == 'nl') & (df['n'] == 3)]['perplexity'].values[0],\n",
        "    }\n",
        "\n",
        "def test_generate():\n",
        "    return {\n",
        "        'english_2_gram': generate('en', 2, \"I am\", 20, 5),\n",
        "        'english_3_gram': generate('en', 3, \"I am\", 20, 5),\n",
        "        'english_4_gram': generate('en', 4, \"I Love\", 20, 5),\n",
        "        'spanish_2_gram': generate('es', 2, \"Soy\", 20, 5),\n",
        "        'spanish_3_gram': generate('es', 3, \"Soy\", 20, 5),\n",
        "        'french_2_gram': generate('fr', 2, \"Je suis\", 20, 5),\n",
        "        'french_3_gram': generate('fr', 3, \"Je suis\", 20, 5),\n",
        "    }\n",
        "\n",
        "TESTS = [test_preprocess, test_build_lm, test_eval, test_match, test_generate]\n",
        "\n",
        "\n",
        "# Run tests and save results\n",
        "res = {}\n",
        "for test in TESTS:\n",
        "    try:\n",
        "        cur_res = test()\n",
        "        res.update({test.__name__: cur_res})\n",
        "    except Exception as e:\n",
        "        res.update({test.__name__: repr(e)})\n",
        "\n",
        "with open('results.json', 'w') as f:\n",
        "    json.dump(res, f, indent=2)\n",
        "\n",
        "# Download the results.json file\n",
        "# files.download('results.json')\n",
        "\n",
        "# Download the results.json file\n",
        "# files.download('results.json')\n",
        "########################################"
      ]
    },
    {
      "cell_type": "code",
      "execution_count": 38,
      "metadata": {
        "colab": {
          "base_uri": "https://localhost:8080/"
        },
        "id": "0dEpidyrqXTr",
        "outputId": "771c371b-d07c-4aee-fd4e-8bca0a9d31f3"
      },
      "outputs": [
        {
          "name": "stdout",
          "output_type": "stream",
          "text": [
            "total 152\n",
            "-rw-r--r--@  1 galdavidi  staff  29340 Apr 27 22:43 Assignment_1.ipynb\n",
            "-rw-r--r--@  1 galdavidi  staff   1056 Apr 16 15:27 README.md\n",
            "-rw-r--r--@  1 galdavidi  staff   4267 Apr 16 15:27 auto_grader.py\n",
            "drwxr-xr-x@ 18 galdavidi  staff    576 Apr 16 17:42 \u001b[1m\u001b[36mdata\u001b[m\u001b[m\n",
            "-rw-r--r--@  1 galdavidi  staff   3606 Apr 16 18:40 debug.py\n",
            "-rw-r--r--@  1 galdavidi  staff   5904 Apr 27 22:18 match.csv\n",
            "-rw-r--r--@  1 galdavidi  staff   6747 Apr 27 22:52 match_test.csv\n",
            "-rw-r--r--@  1 galdavidi  staff      5 Apr 16 15:27 notebook_link.txt\n",
            "drwxr-xr-x@  7 galdavidi  staff    224 Apr 27 21:47 \u001b[1m\u001b[36mpart4_json\u001b[m\u001b[m\n",
            "-rw-r--r--@  1 galdavidi  staff    877 Apr 27 22:53 results.json\n",
            "-rw-r--r--@  1 galdavidi  staff   2073 Apr 16 15:27 tests.py\n"
          ]
        }
      ],
      "source": [
        "# Show the local files, results.json should be there now and\n",
        "# also downloaded to your local machine\n",
        "!ls -l"
      ]
    },
    {
      "cell_type": "code",
      "execution_count": null,
      "metadata": {
        "id": "UA8l8Vg5hPtr"
      },
      "outputs": [],
      "source": []
    }
  ],
  "metadata": {
    "colab": {
      "provenance": []
    },
    "kernelspec": {
      "display_name": ".venv",
      "language": "python",
      "name": "python3"
    },
    "language_info": {
      "codemirror_mode": {
        "name": "ipython",
        "version": 3
      },
      "file_extension": ".py",
      "mimetype": "text/x-python",
      "name": "python",
      "nbconvert_exporter": "python",
      "pygments_lexer": "ipython3",
      "version": "3.12.7"
    }
  },
  "nbformat": 4,
  "nbformat_minor": 0
}
